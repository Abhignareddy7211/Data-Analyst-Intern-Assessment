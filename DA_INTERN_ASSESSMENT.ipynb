{
  "nbformat": 4,
  "nbformat_minor": 0,
  "metadata": {
    "colab": {
      "provenance": []
    },
    "kernelspec": {
      "name": "python3",
      "display_name": "Python 3"
    },
    "language_info": {
      "name": "python"
    }
  },
  "cells": [
    {
      "cell_type": "code",
      "execution_count": null,
      "metadata": {
        "colab": {
          "base_uri": "https://localhost:8080/"
        },
        "id": "fVYL3lNMUfO5",
        "outputId": "54f4df6a-8539-49c7-ba1c-b683c04a034b"
      },
      "outputs": [
        {
          "output_type": "stream",
          "name": "stdout",
          "text": [
            "Number of Duplicate Rows: 47\n",
            "Number of Rows after Removing Null Values: 3432\n",
            "Published Date       0\n",
            "Account              0\n",
            "Account Type         0\n",
            "Campaign Name        0\n",
            "Total Impressions    0\n",
            "Total Engagements    0\n",
            "Media Type           0\n",
            "dtype: int64\n",
            "Number of Rows before Removing Null Values: 3432\n",
            "Number of Rows after Removing Null Values: 3432\n",
            "Published Date       0\n",
            "Account              0\n",
            "Account Type         0\n",
            "Campaign Name        0\n",
            "Total Impressions    0\n",
            "Total Engagements    0\n",
            "Media Type           0\n",
            "dtype: int64\n"
          ]
        }
      ],
      "source": [
        "import pandas as pd\n",
        "import numpy as np\n",
        "\n",
        "# Read the Excel file\n",
        "df = pd.read_excel('/content/social_data.xlsx')\n",
        "\n",
        "# Replace \"N/A\" with NaN\n",
        "df.replace(\"N/A\", np.nan, inplace=True)\n",
        "\n",
        "#REMOVING DUPLICATES\n",
        "# Check for duplicates\n",
        "duplicates = df.duplicated()\n",
        "\n",
        "# Print the count of duplicates\n",
        "print(\"Number of Duplicate Rows:\", duplicates.sum())\n",
        "\n",
        "# Drop duplicate rows\n",
        "df = df.drop_duplicates()\n",
        "\n",
        "# Reset the index\n",
        "df = df.reset_index(drop=True)\n",
        "\n",
        "# Replace other representations of null values with NaN\n",
        "df.replace([\"N/A\", \"\", \"NAN\"], pd.NA, inplace=True)\n",
        "\n",
        "# Remove rows with null values\n",
        "df.dropna(inplace=True)\n",
        "\n",
        "# Check the number of rows after removing null values\n",
        "print(\"Number of Rows after Removing Null Values:\", len(df))\n",
        "\n",
        "# Check for null values again\n",
        "print(df.isnull().sum())\n",
        "# Check the number of rows before removing null values\n",
        "num_rows_before = df.shape[0]\n",
        "print(\"Number of Rows before Removing Null Values:\", num_rows_before)\n",
        "\n",
        "# Remove rows with null values\n",
        "df = df.dropna()\n",
        "\n",
        "# Reset the index\n",
        "df = df.reset_index(drop=True)\n",
        "\n",
        "# Verify that null values have been removed\n",
        "num_rows_after = df.shape[0]\n",
        "print(\"Number of Rows after Removing Null Values:\", num_rows_after)\n",
        "\n",
        "# Check for missing values\n",
        "missing_values = df.isnull().sum()\n",
        "\n",
        "# Display the count of missing values\n",
        "print(missing_values)\n"
      ]
    },
    {
      "cell_type": "code",
      "source": [
        "# Verify that duplicates have been removed\n",
        "print(\"Number of Rows after Removing Duplicates:\", len(df))\n",
        "\n",
        "# Calculate the engagement rate\n",
        "df['Engagement Rate'] = df['Total Engagements'] / df['Total Impressions']\n",
        "\n",
        "# Calculate the typical engagement rate\n",
        "typical_engagement_rate = df['Engagement Rate'].mean()\n",
        "print(f\"Typical Engagement Rate: {typical_engagement_rate:.2%}\")\n",
        "\n",
        "# Calculate the likelihood of achieving a 15% engagement rate\n",
        "likelihood_15_percent = (df['Engagement Rate'] >= 0.15).mean()\n",
        "print(f\"Likelihood of achieving a 15% Engagement Rate: {likelihood_15_percent:.2%}\")\n",
        "\n"
      ],
      "metadata": {
        "colab": {
          "base_uri": "https://localhost:8080/"
        },
        "id": "Ax07Tgls4T1H",
        "outputId": "ee0e8125-c027-407b-e672-1e9db4973163"
      },
      "execution_count": null,
      "outputs": [
        {
          "output_type": "stream",
          "name": "stdout",
          "text": [
            "Number of Rows after Removing Duplicates: 3432\n",
            "Typical Engagement Rate: 40.64%\n",
            "Likelihood of achieving a 15% Engagement Rate: 6.35%\n"
          ]
        }
      ]
    },
    {
      "cell_type": "code",
      "source": [
        "# Extract day of the week and time components from 'Published Date'\n",
        "df['DayOfWeek'] = df['Published Date'].dt.day_name()\n",
        "df['PostingTime'] = df['Published Date'].dt.time\n",
        "\n",
        "# Calculate average engagement rate by day of the week and posting time\n",
        "engagement_by_day = df.groupby('DayOfWeek')['Total Engagements'].mean()\n",
        "engagement_by_time = df.groupby('PostingTime')['Total Engagements'].mean()\n",
        "\n",
        "# Print the average engagement rates\n",
        "print(\"Average Engagement Rate by Day of the Week:\")\n",
        "print(engagement_by_day)\n",
        "print(\"\\nAverage Engagement Rate by Posting Time:\")\n",
        "print(engagement_by_time)"
      ],
      "metadata": {
        "colab": {
          "base_uri": "https://localhost:8080/"
        },
        "id": "Umj1er8Y4VTX",
        "outputId": "f817eaaa-1b83-445d-c4a4-789d671f8054"
      },
      "execution_count": null,
      "outputs": [
        {
          "output_type": "stream",
          "name": "stdout",
          "text": [
            "Average Engagement Rate by Day of the Week:\n",
            "DayOfWeek\n",
            "Friday        890.769671\n",
            "Monday        713.643777\n",
            "Saturday      464.221519\n",
            "Sunday       1043.461126\n",
            "Thursday     1096.640058\n",
            "Tuesday      1258.036298\n",
            "Wednesday     785.492119\n",
            "Name: Total Engagements, dtype: float64\n",
            "\n",
            "Average Engagement Rate by Posting Time:\n",
            "PostingTime\n",
            "00:10:23              0.0\n",
            "02:38:37.314000     274.0\n",
            "03:00:15           2259.0\n",
            "03:30:04.484000     102.0\n",
            "03:30:32.397000     166.0\n",
            "                    ...  \n",
            "23:14:00.898000       0.0\n",
            "23:14:11.149000      16.0\n",
            "23:14:48.651000       0.0\n",
            "23:16:47.935000       2.0\n",
            "23:39:49.652000     121.0\n",
            "Name: Total Engagements, Length: 3316, dtype: float64\n"
          ]
        }
      ]
    },
    {
      "cell_type": "code",
      "source": [
        "\n",
        "\n",
        "\n",
        "df = df.drop_duplicates(subset='Account')\n",
        "\n",
        "# Display the unique game titles\n",
        "unique_games = df['Account'].unique()\n",
        "print(unique_games)\n",
        "# Calculate Total Engagements for each game title (Account)\n",
        "total_engagements = df.groupby('Account')['Total Engagements'].sum()\n",
        "\n",
        "# Calculate Total Impressions for each game title (Account)\n",
        "total_impressions = df.groupby('Account')['Total Impressions'].sum()\n",
        "\n",
        "# Calculate Engagement Rate for each game title (Account)\n",
        "engagement_rate = (total_engagements / total_impressions) * 100\n",
        "\n",
        "# Sort the game titles by their engagement rate in descending order\n",
        "engagement_rate_sorted = engagement_rate.sort_values(ascending=False)\n",
        "\n",
        "# Print the social performance of game titles\n",
        "print(\"Social Performance by Game Title:\")\n",
        "print(engagement_rate_sorted)\n",
        "\n",
        "# Identify the game title with the highest engagement rate\n",
        "best_game_title = engagement_rate.idxmax()\n",
        "\n",
        "# Identify the game title with the lowest engagement rate\n",
        "worst_game_title = engagement_rate.idxmin()\n",
        "\n",
        "# Print the specific game to focus more or less on\n",
        "print(\"Game to Focus More on: \", best_game_title)\n",
        "print(\"Game to Focus Less on: \", worst_game_title)\n"
      ],
      "metadata": {
        "colab": {
          "base_uri": "https://localhost:8080/"
        },
        "id": "yB0LKZj94vFG",
        "outputId": "05a794bd-a632-441e-9c0a-c2a4485886c3"
      },
      "execution_count": null,
      "outputs": [
        {
          "output_type": "stream",
          "name": "stdout",
          "text": [
            "['CSGO' 'General ' 'DOTA2' 'Content Creators' 'Valorant' 'General']\n",
            "Social Performance by Game Title:\n",
            "Account\n",
            "General             21.341399\n",
            "DOTA2               15.103653\n",
            "General              2.590090\n",
            "Content Creators     2.025463\n",
            "CSGO                      NaN\n",
            "Valorant                  NaN\n",
            "dtype: float64\n",
            "Game to Focus More on:  General \n",
            "Game to Focus Less on:  Content Creators\n"
          ]
        }
      ]
    },
    {
      "cell_type": "code",
      "source": [
        "# Drop duplicate entries based on 'Account' column\n",
        "df = df.drop_duplicates(subset='Account', keep='first')\n",
        "\n",
        "# Calculate the average engagement rate by game title\n",
        "avg_engagement = df.groupby('Account')['Total Engagements'].mean()\n",
        "\n",
        "# Find the game title to focus more on\n",
        "game_to_focus_more = avg_engagement.idxmax()\n",
        "\n",
        "# Find the game title to focus less on\n",
        "game_to_focus_less = avg_engagement.idxmin()\n",
        "\n",
        "# Display the average engagement rates and game titles\n",
        "print(avg_engagement)\n",
        "print(\"Game to Focus More on:\", game_to_focus_more)\n",
        "print(\"Game to Focus Less on:\", game_to_focus_less)"
      ],
      "metadata": {
        "colab": {
          "base_uri": "https://localhost:8080/"
        },
        "id": "TbndUnR_XQe3",
        "outputId": "21eef819-ffb7-4719-a2a7-3423c3ec805f"
      },
      "execution_count": null,
      "outputs": [
        {
          "output_type": "stream",
          "name": "stdout",
          "text": [
            "Account\n",
            "CSGO                   0.0\n",
            "Content Creators      35.0\n",
            "DOTA2                153.0\n",
            "General               23.0\n",
            "General             8044.0\n",
            "Valorant               0.0\n",
            "Name: Total Engagements, dtype: float64\n",
            "Game to Focus More on: General \n",
            "Game to Focus Less on: CSGO\n"
          ]
        }
      ]
    },
    {
      "cell_type": "code",
      "source": [
        "\n",
        "# Calculate average engagement rate by media type\n",
        "average_engagement = df.groupby('Media Type')['Total Engagements'].mean()\n",
        "\n",
        "# Sort the media types based on average engagement rate in descending order\n",
        "sorted_media_types = average_engagement.sort_values(ascending=False)\n",
        "\n",
        "print(sorted_media_types)\n"
      ],
      "metadata": {
        "colab": {
          "base_uri": "https://localhost:8080/"
        },
        "id": "Qq4Haed3Av3E",
        "outputId": "e0a5c78d-b566-4cd2-98c4-ee9f82c536cd"
      },
      "execution_count": null,
      "outputs": [
        {
          "output_type": "stream",
          "name": "stdout",
          "text": [
            "Media Type\n",
            "Photo    8044.0\n",
            "Link      153.0\n",
            "Video      29.0\n",
            "Text        0.0\n",
            "Name: Total Engagements, dtype: float64\n"
          ]
        }
      ]
    },
    {
      "cell_type": "code",
      "source": [
        "\n",
        "# Group by campaign name and calculate the total engagements\n",
        "campaign_engagements = df.groupby('Campaign Name')['Total Engagements'].sum()\n",
        "\n",
        "# Find the campaign with the highest total engagements\n",
        "best_campaign = campaign_engagements.idxmax()\n",
        "\n",
        "print(\"Best Performing Campaign:\", best_campaign)\n"
      ],
      "metadata": {
        "colab": {
          "base_uri": "https://localhost:8080/"
        },
        "id": "UtYve8IbBHpI",
        "outputId": "da4f3c61-f3a1-4a88-d0e8-f069e83a12b7"
      },
      "execution_count": null,
      "outputs": [
        {
          "output_type": "stream",
          "name": "stdout",
          "text": [
            "Best Performing Campaign: Community Engagement \n"
          ]
        }
      ]
    }
  ]
}